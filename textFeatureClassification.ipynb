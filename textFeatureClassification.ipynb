{
 "cells": [
  {
   "cell_type": "code",
   "execution_count": 13,
   "metadata": {
    "collapsed": false
   },
   "outputs": [],
   "source": [
    "from sklearn.feature_extraction.text import CountVectorizer\n",
    "from sklearn import cross_validation, metrics \n",
    "import json\n",
    "import pandas as pd\n",
    "import numpy as np\n",
    "import matplotlib.pyplot as plt\n",
    "%matplotlib inline"
   ]
  },
  {
   "cell_type": "code",
   "execution_count": 14,
   "metadata": {
    "collapsed": true
   },
   "outputs": [],
   "source": [
    "with open('./data/train.json') as json_data:\n",
    "    d = json.load(json_data)\n"
   ]
  },
  {
   "cell_type": "code",
   "execution_count": 15,
   "metadata": {
    "collapsed": true
   },
   "outputs": [],
   "source": [
    "nn = len(d['price'])\n",
    "index=d['listing_id']\n",
    "apDF = pd.DataFrame(d, index=index)"
   ]
  },
  {
   "cell_type": "code",
   "execution_count": 30,
   "metadata": {
    "collapsed": false
   },
   "outputs": [
    {
     "data": {
      "text/html": [
       "<div>\n",
       "<table border=\"1\" class=\"dataframe\">\n",
       "  <thead>\n",
       "    <tr style=\"text-align: right;\">\n",
       "      <th></th>\n",
       "      <th>bathrooms</th>\n",
       "      <th>bedrooms</th>\n",
       "      <th>building_id</th>\n",
       "      <th>created</th>\n",
       "      <th>description</th>\n",
       "      <th>display_address</th>\n",
       "      <th>features</th>\n",
       "      <th>interest_level</th>\n",
       "      <th>latitude</th>\n",
       "      <th>listing_id</th>\n",
       "      <th>longitude</th>\n",
       "      <th>manager_id</th>\n",
       "      <th>photos</th>\n",
       "      <th>price</th>\n",
       "      <th>street_address</th>\n",
       "    </tr>\n",
       "  </thead>\n",
       "  <tbody>\n",
       "    <tr>\n",
       "      <th>110554</th>\n",
       "      <td>2.0</td>\n",
       "      <td>3</td>\n",
       "      <td>f7fc4fd7b6b80615ebfce3e212e17cce</td>\n",
       "      <td>2016-04-03 02:22:45</td>\n",
       "      <td>This one WON'T LAST!! Here is a stunning 3 Bed...</td>\n",
       "      <td>Hausman Street</td>\n",
       "      <td>[Pre-War, Dishwasher, Hardwood Floors]</td>\n",
       "      <td>medium</td>\n",
       "      <td>40.7245</td>\n",
       "      <td>6818139</td>\n",
       "      <td>-73.9389</td>\n",
       "      <td>198d2e96429920ff71cd06ddff323713</td>\n",
       "      <td>[https://photos.renthop.com/2/6818139_a50e80ff...</td>\n",
       "      <td>2995</td>\n",
       "      <td>23 Hausman Street</td>\n",
       "    </tr>\n",
       "    <tr>\n",
       "      <th>11542</th>\n",
       "      <td>1.0</td>\n",
       "      <td>0</td>\n",
       "      <td>45c480f3a0771a4e6ddf7a81790a0b07</td>\n",
       "      <td>2016-06-01 02:46:47</td>\n",
       "      <td>Exposed brick wall w/gas electric &amp; heat inclu...</td>\n",
       "      <td>E 78 Street</td>\n",
       "      <td>[Loft, Laundry in Unit, Hardwood Floors, Dogs ...</td>\n",
       "      <td>medium</td>\n",
       "      <td>40.7706</td>\n",
       "      <td>7088908</td>\n",
       "      <td>-73.9501</td>\n",
       "      <td>136b844f49c4eae017d6cabe8ca03b9d</td>\n",
       "      <td>[https://photos.renthop.com/2/7088908_f931ca0d...</td>\n",
       "      <td>1950</td>\n",
       "      <td>503 E 78 Street</td>\n",
       "    </tr>\n",
       "    <tr>\n",
       "      <th>11543</th>\n",
       "      <td>1.0</td>\n",
       "      <td>0</td>\n",
       "      <td>b0d419ddd5ff150f96b328c61ee6e7e2</td>\n",
       "      <td>2016-06-07 17:49:07</td>\n",
       "      <td>Fully furnished studio with kitchenette and fu...</td>\n",
       "      <td>W 83rd St</td>\n",
       "      <td>[Furnished, Short Term Allowed]</td>\n",
       "      <td>high</td>\n",
       "      <td>40.7855</td>\n",
       "      <td>7122047</td>\n",
       "      <td>-73.9752</td>\n",
       "      <td>0a4de95e82c122b78494dcea6cb9f44d</td>\n",
       "      <td>[https://photos.renthop.com/2/7122047_de461dbe...</td>\n",
       "      <td>1850</td>\n",
       "      <td>155 W 83rd St</td>\n",
       "    </tr>\n",
       "    <tr>\n",
       "      <th>11540</th>\n",
       "      <td>1.0</td>\n",
       "      <td>3</td>\n",
       "      <td>c3d5bcc96eb5d960b9a3feb67e71115b</td>\n",
       "      <td>2016-06-16 05:00:55</td>\n",
       "      <td>3 bedrooms &lt;br /&gt;2 big queen sized bds...</td>\n",
       "      <td>40th St</td>\n",
       "      <td>[]</td>\n",
       "      <td>low</td>\n",
       "      <td>40.6444</td>\n",
       "      <td>7169671</td>\n",
       "      <td>-73.9936</td>\n",
       "      <td>324631e1aacaa41bc4475f879756bbb6</td>\n",
       "      <td>[https://photos.renthop.com/2/7169671_c5963a80...</td>\n",
       "      <td>2400</td>\n",
       "      <td>973 40th St</td>\n",
       "    </tr>\n",
       "    <tr>\n",
       "      <th>11541</th>\n",
       "      <td>1.0</td>\n",
       "      <td>3</td>\n",
       "      <td>3989b2e8d5eb6cd4ccfc8fa4257b277b</td>\n",
       "      <td>2016-06-16 03:44:57</td>\n",
       "      <td>Comfortable spacious renovated apartment, with...</td>\n",
       "      <td>W 144th  Beautiful Spacious Renovated Secure L...</td>\n",
       "      <td>[Cats Allowed, Dogs Allowed, No Fee, Reduced F...</td>\n",
       "      <td>medium</td>\n",
       "      <td>40.8260</td>\n",
       "      <td>7168565</td>\n",
       "      <td>-73.9519</td>\n",
       "      <td>2a4e0d2668fde3afa267d312b3a2a9d8</td>\n",
       "      <td>[https://photos.renthop.com/2/7168565_617723df...</td>\n",
       "      <td>2500</td>\n",
       "      <td>612 W 144th</td>\n",
       "    </tr>\n",
       "  </tbody>\n",
       "</table>\n",
       "</div>"
      ],
      "text/plain": [
       "        bathrooms  bedrooms                       building_id  \\\n",
       "110554        2.0         3  f7fc4fd7b6b80615ebfce3e212e17cce   \n",
       "11542         1.0         0  45c480f3a0771a4e6ddf7a81790a0b07   \n",
       "11543         1.0         0  b0d419ddd5ff150f96b328c61ee6e7e2   \n",
       "11540         1.0         3  c3d5bcc96eb5d960b9a3feb67e71115b   \n",
       "11541         1.0         3  3989b2e8d5eb6cd4ccfc8fa4257b277b   \n",
       "\n",
       "                    created  \\\n",
       "110554  2016-04-03 02:22:45   \n",
       "11542   2016-06-01 02:46:47   \n",
       "11543   2016-06-07 17:49:07   \n",
       "11540   2016-06-16 05:00:55   \n",
       "11541   2016-06-16 03:44:57   \n",
       "\n",
       "                                              description  \\\n",
       "110554  This one WON'T LAST!! Here is a stunning 3 Bed...   \n",
       "11542   Exposed brick wall w/gas electric & heat inclu...   \n",
       "11543   Fully furnished studio with kitchenette and fu...   \n",
       "11540           3 bedrooms <br />2 big queen sized bds...   \n",
       "11541   Comfortable spacious renovated apartment, with...   \n",
       "\n",
       "                                          display_address  \\\n",
       "110554                                     Hausman Street   \n",
       "11542                                         E 78 Street   \n",
       "11543                                           W 83rd St   \n",
       "11540                                             40th St   \n",
       "11541   W 144th  Beautiful Spacious Renovated Secure L...   \n",
       "\n",
       "                                                 features interest_level  \\\n",
       "110554             [Pre-War, Dishwasher, Hardwood Floors]         medium   \n",
       "11542   [Loft, Laundry in Unit, Hardwood Floors, Dogs ...         medium   \n",
       "11543                     [Furnished, Short Term Allowed]           high   \n",
       "11540                                                  []            low   \n",
       "11541   [Cats Allowed, Dogs Allowed, No Fee, Reduced F...         medium   \n",
       "\n",
       "        latitude  listing_id  longitude                        manager_id  \\\n",
       "110554   40.7245     6818139   -73.9389  198d2e96429920ff71cd06ddff323713   \n",
       "11542    40.7706     7088908   -73.9501  136b844f49c4eae017d6cabe8ca03b9d   \n",
       "11543    40.7855     7122047   -73.9752  0a4de95e82c122b78494dcea6cb9f44d   \n",
       "11540    40.6444     7169671   -73.9936  324631e1aacaa41bc4475f879756bbb6   \n",
       "11541    40.8260     7168565   -73.9519  2a4e0d2668fde3afa267d312b3a2a9d8   \n",
       "\n",
       "                                                   photos  price  \\\n",
       "110554  [https://photos.renthop.com/2/6818139_a50e80ff...   2995   \n",
       "11542   [https://photos.renthop.com/2/7088908_f931ca0d...   1950   \n",
       "11543   [https://photos.renthop.com/2/7122047_de461dbe...   1850   \n",
       "11540   [https://photos.renthop.com/2/7169671_c5963a80...   2400   \n",
       "11541   [https://photos.renthop.com/2/7168565_617723df...   2500   \n",
       "\n",
       "           street_address  \n",
       "110554  23 Hausman Street  \n",
       "11542     503 E 78 Street  \n",
       "11543       155 W 83rd St  \n",
       "11540         973 40th St  \n",
       "11541         612 W 144th  "
      ]
     },
     "execution_count": 30,
     "metadata": {},
     "output_type": "execute_result"
    }
   ],
   "source": [
    "apDF.head()"
   ]
  },
  {
   "cell_type": "code",
   "execution_count": 16,
   "metadata": {
    "collapsed": true
   },
   "outputs": [],
   "source": [
    "categories = [1,2,3]"
   ]
  },
  {
   "cell_type": "code",
   "execution_count": 17,
   "metadata": {
    "collapsed": true
   },
   "outputs": [],
   "source": [
    "train_data, test_data, train_labels, test_labels = cross_validation.train_test_split(apDF['features'], \n",
    "                                                                                     apDF['interest_level'], \n",
    "                                                                                     test_size = 0.3,\n",
    "                                                                                     random_state = 1)"
   ]
  },
  {
   "cell_type": "code",
   "execution_count": 18,
   "metadata": {
    "collapsed": true
   },
   "outputs": [],
   "source": [
    "def convert_data(dataSeries):\n",
    "    dataStr = dataSeries.apply(lambda x: str(x))\n",
    "    dataStr = dataStr.values\n",
    "    return(dataStr)"
   ]
  },
  {
   "cell_type": "code",
   "execution_count": 19,
   "metadata": {
    "collapsed": false
   },
   "outputs": [
    {
     "name": "stdout",
     "output_type": "stream",
     "text": [
      "14806\n"
     ]
    }
   ],
   "source": [
    "test_dataV=convert_data(test_data)\n",
    "print len(test_dataV)"
   ]
  },
  {
   "cell_type": "code",
   "execution_count": 20,
   "metadata": {
    "collapsed": false
   },
   "outputs": [
    {
     "name": "stdout",
     "output_type": "stream",
     "text": [
      "14806\n"
     ]
    }
   ],
   "source": [
    "test_labelsV = convert_data(test_labels)\n",
    "print len(test_labelsV)"
   ]
  },
  {
   "cell_type": "code",
   "execution_count": 21,
   "metadata": {
    "collapsed": false
   },
   "outputs": [
    {
     "name": "stdout",
     "output_type": "stream",
     "text": [
      "34546\n"
     ]
    }
   ],
   "source": [
    "train_labelsV = convert_data(train_labels)\n",
    "#train_labelsV = train_labels.apply(lambda x: str(x))\n",
    "#train_labelsV = train_labelsV.values\n",
    "#type(train_labelsV[0])\n",
    "print len(train_labelsV)"
   ]
  },
  {
   "cell_type": "code",
   "execution_count": 22,
   "metadata": {
    "collapsed": false
   },
   "outputs": [
    {
     "name": "stdout",
     "output_type": "stream",
     "text": [
      "34546\n"
     ]
    }
   ],
   "source": [
    "train_dataV = convert_data(train_data)\n",
    "#train_dataV = train_data.apply(lambda x: str(x))\n",
    "#train_dataV = train_dataV.values\n",
    "#type(train_dataV[0])\n",
    "print len(train_dataV)"
   ]
  },
  {
   "cell_type": "code",
   "execution_count": 23,
   "metadata": {
    "collapsed": false
   },
   "outputs": [
    {
     "name": "stdout",
     "output_type": "stream",
     "text": [
      "(34546, 970)\n",
      "(14806, 970)\n"
     ]
    }
   ],
   "source": [
    "#replace words with their counts(occurances) in descriptions\n",
    "from sklearn.feature_extraction.text import CountVectorizer\n",
    "\n",
    "X_train_counts = count_vect.fit_transform(train_dataV)\n",
    "print X_train_counts.shape\n",
    "\n",
    "X_test_counts = count_vect.transform(test_dataV)\n",
    "print X_test_counts.shape"
   ]
  },
  {
   "cell_type": "code",
   "execution_count": 25,
   "metadata": {
    "collapsed": false
   },
   "outputs": [
    {
     "name": "stdout",
     "output_type": "stream",
     "text": [
      "81\n"
     ]
    }
   ],
   "source": [
    "print count_vect.vocabulary_.get(u'allowed')\n"
   ]
  },
  {
   "cell_type": "code",
   "execution_count": 39,
   "metadata": {
    "collapsed": false
   },
   "outputs": [
    {
     "name": "stdout",
     "output_type": "stream",
     "text": [
      "balcony       1\n",
      "building      1\n",
      "center        1\n",
      "dishwasher    1\n",
      "doorman       1\n",
      "fee           1\n",
      "fitness       1\n",
      "floors        1\n",
      "hardwood      1\n",
      "in            2\n",
      "laundry       2\n",
      "no            1\n",
      "outdoor       1\n",
      "pool          1\n",
      "space         1\n",
      "swimming      1\n",
      "terrace       1\n",
      "unit          1\n",
      "Name: 2, dtype: int64\n"
     ]
    }
   ],
   "source": [
    "featureNames = count_vect.get_feature_names()\n",
    "data = X_train_counts.toarray()\n",
    "data = pd.DataFrame(data)\n",
    "data.columns = featureNames\n",
    "print data.iloc[2][data.iloc[2] !=0]"
   ]
  },
  {
   "cell_type": "code",
   "execution_count": 37,
   "metadata": {
    "collapsed": false
   },
   "outputs": [
    {
     "data": {
      "text/plain": [
       "36084                 [Pre-War, Dogs Allowed, Cats Allowed]\n",
       "40448                         [Dishwasher, Hardwood Floors]\n",
       "119507    [Swimming Pool, Balcony, Doorman, Fitness Cent...\n",
       "87386     [Doorman, Fitness Center, No Fee, Dogs Allowed...\n",
       "73867                         [Dishwasher, Hardwood Floors]\n",
       "Name: features, dtype: object"
      ]
     },
     "execution_count": 37,
     "metadata": {},
     "output_type": "execute_result"
    }
   ],
   "source": [
    "train_data.head()"
   ]
  },
  {
   "cell_type": "code",
   "execution_count": 40,
   "metadata": {
    "collapsed": false
   },
   "outputs": [
    {
     "name": "stdout",
     "output_type": "stream",
     "text": [
      "(34546, 970)\n",
      "(14806, 970)\n"
     ]
    }
   ],
   "source": [
    "#transform occurances to frequences\n",
    "from sklearn.feature_extraction.text import TfidfTransformer\n",
    "\n",
    "tf_transformer = TfidfTransformer(use_idf=False).fit(X_train_counts)\n",
    "X_train_tf = tf_transformer.transform(X_train_counts)\n",
    "print X_train_tf.shape\n",
    "#same for test data\n",
    "tf_transformerTest = TfidfTransformer(use_idf=False).fit(X_test_counts)\n",
    "X_test_tf = tf_transformerTest.transform(X_test_counts)\n",
    "print X_test_tf.shape"
   ]
  },
  {
   "cell_type": "code",
   "execution_count": 44,
   "metadata": {
    "collapsed": false
   },
   "outputs": [
    {
     "name": "stdout",
     "output_type": "stream",
     "text": [
      "allowed    0.707107\n",
      "cats       0.353553\n",
      "dogs       0.353553\n",
      "pre        0.353553\n",
      "war        0.353553\n",
      "Name: 0, dtype: float64\n"
     ]
    }
   ],
   "source": [
    "dataFr = X_train_tf.toarray()\n",
    "dataFr = pd.DataFrame(dataFr)\n",
    "dataFr.columns = featureNames\n",
    "print dataFr.iloc[0][dataFr.iloc[0] !=0]"
   ]
  },
  {
   "cell_type": "code",
   "execution_count": 101,
   "metadata": {
    "collapsed": false
   },
   "outputs": [
    {
     "data": {
      "text/plain": [
       "0.69461008510391942"
      ]
     },
     "execution_count": 101,
     "metadata": {},
     "output_type": "execute_result"
    }
   ],
   "source": [
    "#predict using Multinomial bayes\n",
    "from sklearn.naive_bayes import MultinomialNB\n",
    "clf = MultinomialNB()\n",
    "clf.fit(X_train_tf, train_labelsV)\n",
    "predicted = clf.predict(X_train_tf)\n",
    "metrics.accuracy_score(train_labelsV, predicted)"
   ]
  },
  {
   "cell_type": "code",
   "execution_count": 102,
   "metadata": {
    "collapsed": false
   },
   "outputs": [
    {
     "name": "stdout",
     "output_type": "stream",
     "text": [
      "14806\n",
      "14806\n"
     ]
    }
   ],
   "source": [
    "predicted = clf.predict(X_test_tf)\n",
    "print len(predicted)\n",
    "print len(test_labelsV)"
   ]
  },
  {
   "cell_type": "code",
   "execution_count": 103,
   "metadata": {
    "collapsed": false
   },
   "outputs": [
    {
     "data": {
      "text/plain": [
       "0.69552883965959744"
      ]
     },
     "execution_count": 103,
     "metadata": {},
     "output_type": "execute_result"
    }
   ],
   "source": [
    "metrics.accuracy_score(test_labelsV, predicted)"
   ]
  },
  {
   "cell_type": "code",
   "execution_count": 105,
   "metadata": {
    "collapsed": false
   },
   "outputs": [],
   "source": [
    "#try to use SGD SVM and PipeLine\n",
    "from sklearn.pipeline import Pipeline\n",
    "from sklearn.linear_model import SGDClassifier\n",
    "text_clf = Pipeline([('vect', CountVectorizer()),\n",
    "    ('tfidf', TfidfTransformer()),\n",
    "    ('clf', SGDClassifier(loss='hinge', penalty='l2', alpha=1e-3, n_iter=5, random_state=42)),])\n"
   ]
  },
  {
   "cell_type": "code",
   "execution_count": 108,
   "metadata": {
    "collapsed": false
   },
   "outputs": [
    {
     "data": {
      "text/plain": [
       "0.6962717817101175"
      ]
     },
     "execution_count": 108,
     "metadata": {},
     "output_type": "execute_result"
    }
   ],
   "source": [
    "_ = text_clf.fit(train_dataV, train_labels)\n",
    "predicted = text_clf.predict(test_dataV)\n",
    "np.mean(predicted == test_labelsV)         \n"
   ]
  },
  {
   "cell_type": "code",
   "execution_count": 109,
   "metadata": {
    "collapsed": false
   },
   "outputs": [
    {
     "data": {
      "text/plain": [
       "scipy.sparse.csr.csr_matrix"
      ]
     },
     "execution_count": 109,
     "metadata": {},
     "output_type": "execute_result"
    }
   ],
   "source": [
    "type(X_train_tf)"
   ]
  },
  {
   "cell_type": "code",
   "execution_count": 112,
   "metadata": {
    "collapsed": false
   },
   "outputs": [],
   "source": [
    "#transform all text features into counts\n",
    "count_vect = CountVectorizer(token_pattern=\"[A-Za-z-]{3,}\")\n",
    "textFeatures = convert_data(apDF['features'])\n",
    "features_counts = count_vect.fit_transform(textFeatures)\n",
    "\n",
    "\n",
    "#print features_counts.vocabulary_.get(u'allowed')"
   ]
  },
  {
   "cell_type": "code",
   "execution_count": 113,
   "metadata": {
    "collapsed": false
   },
   "outputs": [
    {
     "name": "stdout",
     "output_type": "stream",
     "text": [
      "dishwasher    0.5\n",
      "floors        0.5\n",
      "hardwood      0.5\n",
      "pre-war       0.5\n",
      "Name: 0, dtype: float64\n"
     ]
    }
   ],
   "source": [
    "#transform all text features into frequencies\n",
    "from sklearn.feature_extraction.text import TfidfTransformer\n",
    "tf_transformer = TfidfTransformer(use_idf=False).fit(features_counts)\n",
    "X_features_tf = tf_transformer.transform(features_counts)\n",
    "\n",
    "dataFr = X_features_tf.toarray()\n",
    "dataFr = pd.DataFrame(dataFr)\n",
    "featureNames = count_vect.get_feature_names()\n",
    "dataFr.columns = featureNames\n",
    "print dataFr.iloc[0][dataFr.iloc[0] !=0]\n",
    "\n"
   ]
  },
  {
   "cell_type": "code",
   "execution_count": 114,
   "metadata": {
    "collapsed": false
   },
   "outputs": [
    {
     "name": "stderr",
     "output_type": "stream",
     "text": [
      "C:\\Users\\battlann\\AppData\\Local\\Continuum\\Anaconda2\\lib\\site-packages\\ipykernel\\__main__.py:5: SettingWithCopyWarning: \n",
      "A value is trying to be set on a copy of a slice from a DataFrame.\n",
      "Try using .loc[row_indexer,col_indexer] = value instead\n",
      "\n",
      "See the caveats in the documentation: http://pandas.pydata.org/pandas-docs/stable/indexing.html#indexing-view-versus-copy\n"
     ]
    },
    {
     "data": {
      "text/html": [
       "<div>\n",
       "<table border=\"1\" class=\"dataframe\">\n",
       "  <thead>\n",
       "    <tr style=\"text-align: right;\">\n",
       "      <th></th>\n",
       "      <th>bathrooms</th>\n",
       "      <th>bedrooms</th>\n",
       "      <th>latitude</th>\n",
       "      <th>longitude</th>\n",
       "      <th>price</th>\n",
       "      <th>interest_level</th>\n",
       "      <th>InterestLevel</th>\n",
       "    </tr>\n",
       "  </thead>\n",
       "  <tbody>\n",
       "    <tr>\n",
       "      <th>110554</th>\n",
       "      <td>2.0</td>\n",
       "      <td>3</td>\n",
       "      <td>40.7245</td>\n",
       "      <td>-73.9389</td>\n",
       "      <td>2995</td>\n",
       "      <td>medium</td>\n",
       "      <td>2</td>\n",
       "    </tr>\n",
       "    <tr>\n",
       "      <th>11542</th>\n",
       "      <td>1.0</td>\n",
       "      <td>0</td>\n",
       "      <td>40.7706</td>\n",
       "      <td>-73.9501</td>\n",
       "      <td>1950</td>\n",
       "      <td>medium</td>\n",
       "      <td>2</td>\n",
       "    </tr>\n",
       "    <tr>\n",
       "      <th>11543</th>\n",
       "      <td>1.0</td>\n",
       "      <td>0</td>\n",
       "      <td>40.7855</td>\n",
       "      <td>-73.9752</td>\n",
       "      <td>1850</td>\n",
       "      <td>high</td>\n",
       "      <td>3</td>\n",
       "    </tr>\n",
       "    <tr>\n",
       "      <th>11540</th>\n",
       "      <td>1.0</td>\n",
       "      <td>3</td>\n",
       "      <td>40.6444</td>\n",
       "      <td>-73.9936</td>\n",
       "      <td>2400</td>\n",
       "      <td>low</td>\n",
       "      <td>1</td>\n",
       "    </tr>\n",
       "    <tr>\n",
       "      <th>11541</th>\n",
       "      <td>1.0</td>\n",
       "      <td>3</td>\n",
       "      <td>40.8260</td>\n",
       "      <td>-73.9519</td>\n",
       "      <td>2500</td>\n",
       "      <td>medium</td>\n",
       "      <td>2</td>\n",
       "    </tr>\n",
       "  </tbody>\n",
       "</table>\n",
       "</div>"
      ],
      "text/plain": [
       "        bathrooms  bedrooms  latitude  longitude  price interest_level  \\\n",
       "110554        2.0         3   40.7245   -73.9389   2995         medium   \n",
       "11542         1.0         0   40.7706   -73.9501   1950         medium   \n",
       "11543         1.0         0   40.7855   -73.9752   1850           high   \n",
       "11540         1.0         3   40.6444   -73.9936   2400            low   \n",
       "11541         1.0         3   40.8260   -73.9519   2500         medium   \n",
       "\n",
       "        InterestLevel  \n",
       "110554              2  \n",
       "11542               2  \n",
       "11543               3  \n",
       "11540               1  \n",
       "11541               2  "
      ]
     },
     "execution_count": 114,
     "metadata": {},
     "output_type": "execute_result"
    }
   ],
   "source": [
    "dfSimple = apDF[['bathrooms', 'bedrooms', 'latitude', 'longitude', 'price', 'interest_level']]\n",
    "interests={'low':1, 'medium':2, 'high':3}\n",
    "levels = dfSimple['interest_level']\n",
    "levels = levels.apply(lambda x: interests[x])\n",
    "dfSimple['InterestLevel'] = levels\n",
    "dfSimple.head()\n"
   ]
  },
  {
   "cell_type": "code",
   "execution_count": 115,
   "metadata": {
    "collapsed": false
   },
   "outputs": [
    {
     "data": {
      "text/html": [
       "<div>\n",
       "<table border=\"1\" class=\"dataframe\">\n",
       "  <thead>\n",
       "    <tr style=\"text-align: right;\">\n",
       "      <th></th>\n",
       "      <th>bathrooms</th>\n",
       "      <th>bedrooms</th>\n",
       "      <th>latitude</th>\n",
       "      <th>longitude</th>\n",
       "      <th>price</th>\n",
       "      <th>interest_level</th>\n",
       "      <th>InterestLevel</th>\n",
       "    </tr>\n",
       "  </thead>\n",
       "  <tbody>\n",
       "    <tr>\n",
       "      <th>0</th>\n",
       "      <td>2.0</td>\n",
       "      <td>3</td>\n",
       "      <td>40.7245</td>\n",
       "      <td>-73.9389</td>\n",
       "      <td>2995</td>\n",
       "      <td>medium</td>\n",
       "      <td>2</td>\n",
       "    </tr>\n",
       "    <tr>\n",
       "      <th>1</th>\n",
       "      <td>1.0</td>\n",
       "      <td>0</td>\n",
       "      <td>40.7706</td>\n",
       "      <td>-73.9501</td>\n",
       "      <td>1950</td>\n",
       "      <td>medium</td>\n",
       "      <td>2</td>\n",
       "    </tr>\n",
       "    <tr>\n",
       "      <th>2</th>\n",
       "      <td>1.0</td>\n",
       "      <td>0</td>\n",
       "      <td>40.7855</td>\n",
       "      <td>-73.9752</td>\n",
       "      <td>1850</td>\n",
       "      <td>high</td>\n",
       "      <td>3</td>\n",
       "    </tr>\n",
       "    <tr>\n",
       "      <th>3</th>\n",
       "      <td>1.0</td>\n",
       "      <td>3</td>\n",
       "      <td>40.6444</td>\n",
       "      <td>-73.9936</td>\n",
       "      <td>2400</td>\n",
       "      <td>low</td>\n",
       "      <td>1</td>\n",
       "    </tr>\n",
       "    <tr>\n",
       "      <th>4</th>\n",
       "      <td>1.0</td>\n",
       "      <td>3</td>\n",
       "      <td>40.8260</td>\n",
       "      <td>-73.9519</td>\n",
       "      <td>2500</td>\n",
       "      <td>medium</td>\n",
       "      <td>2</td>\n",
       "    </tr>\n",
       "  </tbody>\n",
       "</table>\n",
       "</div>"
      ],
      "text/plain": [
       "   bathrooms  bedrooms  latitude  longitude  price interest_level  \\\n",
       "0        2.0         3   40.7245   -73.9389   2995         medium   \n",
       "1        1.0         0   40.7706   -73.9501   1950         medium   \n",
       "2        1.0         0   40.7855   -73.9752   1850           high   \n",
       "3        1.0         3   40.6444   -73.9936   2400            low   \n",
       "4        1.0         3   40.8260   -73.9519   2500         medium   \n",
       "\n",
       "   InterestLevel  \n",
       "0              2  \n",
       "1              2  \n",
       "2              3  \n",
       "3              1  \n",
       "4              2  "
      ]
     },
     "execution_count": 115,
     "metadata": {},
     "output_type": "execute_result"
    }
   ],
   "source": [
    "dfSimple = dfSimple.reset_index()\n",
    "dfSimple = dfSimple.drop('index', 1)\n",
    "dfSimple.head()"
   ]
  },
  {
   "cell_type": "code",
   "execution_count": 116,
   "metadata": {
    "collapsed": false
   },
   "outputs": [
    {
     "data": {
      "text/html": [
       "<div>\n",
       "<table border=\"1\" class=\"dataframe\">\n",
       "  <thead>\n",
       "    <tr style=\"text-align: right;\">\n",
       "      <th></th>\n",
       "      <th>bathrooms</th>\n",
       "      <th>bedrooms</th>\n",
       "      <th>latitude</th>\n",
       "      <th>longitude</th>\n",
       "      <th>price</th>\n",
       "      <th>interest_level</th>\n",
       "      <th>InterestLevel</th>\n",
       "      <th>-greal</th>\n",
       "      <th>-hour</th>\n",
       "      <th>-square</th>\n",
       "      <th>...</th>\n",
       "      <th>wrap</th>\n",
       "      <th>xae</th>\n",
       "      <th>xoxo</th>\n",
       "      <th>xxl</th>\n",
       "      <th>xxlarge</th>\n",
       "      <th>yard</th>\n",
       "      <th>year</th>\n",
       "      <th>yoga</th>\n",
       "      <th>york</th>\n",
       "      <th>your</th>\n",
       "    </tr>\n",
       "  </thead>\n",
       "  <tbody>\n",
       "    <tr>\n",
       "      <th>0</th>\n",
       "      <td>2.0</td>\n",
       "      <td>3</td>\n",
       "      <td>40.7245</td>\n",
       "      <td>-73.9389</td>\n",
       "      <td>2995</td>\n",
       "      <td>medium</td>\n",
       "      <td>2</td>\n",
       "      <td>0.0</td>\n",
       "      <td>0.0</td>\n",
       "      <td>0.0</td>\n",
       "      <td>...</td>\n",
       "      <td>0.0</td>\n",
       "      <td>0.0</td>\n",
       "      <td>0.0</td>\n",
       "      <td>0.0</td>\n",
       "      <td>0.0</td>\n",
       "      <td>0.0</td>\n",
       "      <td>0.0</td>\n",
       "      <td>0.0</td>\n",
       "      <td>0.0</td>\n",
       "      <td>0.0</td>\n",
       "    </tr>\n",
       "    <tr>\n",
       "      <th>1</th>\n",
       "      <td>1.0</td>\n",
       "      <td>0</td>\n",
       "      <td>40.7706</td>\n",
       "      <td>-73.9501</td>\n",
       "      <td>1950</td>\n",
       "      <td>medium</td>\n",
       "      <td>2</td>\n",
       "      <td>0.0</td>\n",
       "      <td>0.0</td>\n",
       "      <td>0.0</td>\n",
       "      <td>...</td>\n",
       "      <td>0.0</td>\n",
       "      <td>0.0</td>\n",
       "      <td>0.0</td>\n",
       "      <td>0.0</td>\n",
       "      <td>0.0</td>\n",
       "      <td>0.0</td>\n",
       "      <td>0.0</td>\n",
       "      <td>0.0</td>\n",
       "      <td>0.0</td>\n",
       "      <td>0.0</td>\n",
       "    </tr>\n",
       "    <tr>\n",
       "      <th>2</th>\n",
       "      <td>1.0</td>\n",
       "      <td>0</td>\n",
       "      <td>40.7855</td>\n",
       "      <td>-73.9752</td>\n",
       "      <td>1850</td>\n",
       "      <td>high</td>\n",
       "      <td>3</td>\n",
       "      <td>0.0</td>\n",
       "      <td>0.0</td>\n",
       "      <td>0.0</td>\n",
       "      <td>...</td>\n",
       "      <td>0.0</td>\n",
       "      <td>0.0</td>\n",
       "      <td>0.0</td>\n",
       "      <td>0.0</td>\n",
       "      <td>0.0</td>\n",
       "      <td>0.0</td>\n",
       "      <td>0.0</td>\n",
       "      <td>0.0</td>\n",
       "      <td>0.0</td>\n",
       "      <td>0.0</td>\n",
       "    </tr>\n",
       "    <tr>\n",
       "      <th>3</th>\n",
       "      <td>1.0</td>\n",
       "      <td>3</td>\n",
       "      <td>40.6444</td>\n",
       "      <td>-73.9936</td>\n",
       "      <td>2400</td>\n",
       "      <td>low</td>\n",
       "      <td>1</td>\n",
       "      <td>0.0</td>\n",
       "      <td>0.0</td>\n",
       "      <td>0.0</td>\n",
       "      <td>...</td>\n",
       "      <td>0.0</td>\n",
       "      <td>0.0</td>\n",
       "      <td>0.0</td>\n",
       "      <td>0.0</td>\n",
       "      <td>0.0</td>\n",
       "      <td>0.0</td>\n",
       "      <td>0.0</td>\n",
       "      <td>0.0</td>\n",
       "      <td>0.0</td>\n",
       "      <td>0.0</td>\n",
       "    </tr>\n",
       "    <tr>\n",
       "      <th>4</th>\n",
       "      <td>1.0</td>\n",
       "      <td>3</td>\n",
       "      <td>40.8260</td>\n",
       "      <td>-73.9519</td>\n",
       "      <td>2500</td>\n",
       "      <td>medium</td>\n",
       "      <td>2</td>\n",
       "      <td>0.0</td>\n",
       "      <td>0.0</td>\n",
       "      <td>0.0</td>\n",
       "      <td>...</td>\n",
       "      <td>0.0</td>\n",
       "      <td>0.0</td>\n",
       "      <td>0.0</td>\n",
       "      <td>0.0</td>\n",
       "      <td>0.0</td>\n",
       "      <td>0.0</td>\n",
       "      <td>0.0</td>\n",
       "      <td>0.0</td>\n",
       "      <td>0.0</td>\n",
       "      <td>0.0</td>\n",
       "    </tr>\n",
       "  </tbody>\n",
       "</table>\n",
       "<p>5 rows × 1067 columns</p>\n",
       "</div>"
      ],
      "text/plain": [
       "   bathrooms  bedrooms  latitude  longitude  price interest_level  \\\n",
       "0        2.0         3   40.7245   -73.9389   2995         medium   \n",
       "1        1.0         0   40.7706   -73.9501   1950         medium   \n",
       "2        1.0         0   40.7855   -73.9752   1850           high   \n",
       "3        1.0         3   40.6444   -73.9936   2400            low   \n",
       "4        1.0         3   40.8260   -73.9519   2500         medium   \n",
       "\n",
       "   InterestLevel  -greal  -hour  -square  ...   wrap  xae  xoxo  xxl  xxlarge  \\\n",
       "0              2     0.0    0.0      0.0  ...    0.0  0.0   0.0  0.0      0.0   \n",
       "1              2     0.0    0.0      0.0  ...    0.0  0.0   0.0  0.0      0.0   \n",
       "2              3     0.0    0.0      0.0  ...    0.0  0.0   0.0  0.0      0.0   \n",
       "3              1     0.0    0.0      0.0  ...    0.0  0.0   0.0  0.0      0.0   \n",
       "4              2     0.0    0.0      0.0  ...    0.0  0.0   0.0  0.0      0.0   \n",
       "\n",
       "   yard  year  yoga  york  your  \n",
       "0   0.0   0.0   0.0   0.0   0.0  \n",
       "1   0.0   0.0   0.0   0.0   0.0  \n",
       "2   0.0   0.0   0.0   0.0   0.0  \n",
       "3   0.0   0.0   0.0   0.0   0.0  \n",
       "4   0.0   0.0   0.0   0.0   0.0  \n",
       "\n",
       "[5 rows x 1067 columns]"
      ]
     },
     "execution_count": 116,
     "metadata": {},
     "output_type": "execute_result"
    }
   ],
   "source": [
    "dfWithFeatures = pd.concat([dfSimple, dataFr], axis=1)\n",
    "dfWithFeatures.head()"
   ]
  },
  {
   "cell_type": "code",
   "execution_count": 117,
   "metadata": {
    "collapsed": true
   },
   "outputs": [],
   "source": [
    "dfWithFeatures = dfWithFeatures.drop('interest_level', 1)"
   ]
  },
  {
   "cell_type": "code",
   "execution_count": 118,
   "metadata": {
    "collapsed": true
   },
   "outputs": [],
   "source": [
    "#try to random forest with text features\n",
    "from sklearn.ensemble import RandomForestClassifier"
   ]
  },
  {
   "cell_type": "code",
   "execution_count": 119,
   "metadata": {
    "collapsed": false
   },
   "outputs": [
    {
     "name": "stdout",
     "output_type": "stream",
     "text": [
      "   bathrooms  bedrooms  latitude  longitude  price  -greal  -hour  -square  \\\n",
      "0        2.0         3   40.7245   -73.9389   2995     0.0    0.0      0.0   \n",
      "1        1.0         0   40.7706   -73.9501   1950     0.0    0.0      0.0   \n",
      "2        1.0         0   40.7855   -73.9752   1850     0.0    0.0      0.0   \n",
      "3        1.0         3   40.6444   -73.9936   2400     0.0    0.0      0.0   \n",
      "4        1.0         3   40.8260   -73.9519   2500     0.0    0.0      0.0   \n",
      "\n",
      "   abraham  absolute  ...   wrap  xae  xoxo  xxl  xxlarge  yard  year  yoga  \\\n",
      "0      0.0       0.0  ...    0.0  0.0   0.0  0.0      0.0   0.0   0.0   0.0   \n",
      "1      0.0       0.0  ...    0.0  0.0   0.0  0.0      0.0   0.0   0.0   0.0   \n",
      "2      0.0       0.0  ...    0.0  0.0   0.0  0.0      0.0   0.0   0.0   0.0   \n",
      "3      0.0       0.0  ...    0.0  0.0   0.0  0.0      0.0   0.0   0.0   0.0   \n",
      "4      0.0       0.0  ...    0.0  0.0   0.0  0.0      0.0   0.0   0.0   0.0   \n",
      "\n",
      "   york  your  \n",
      "0   0.0   0.0  \n",
      "1   0.0   0.0  \n",
      "2   0.0   0.0  \n",
      "3   0.0   0.0  \n",
      "4   0.0   0.0  \n",
      "\n",
      "[5 rows x 1065 columns]\n",
      "0    2\n",
      "1    2\n",
      "2    3\n",
      "3    1\n",
      "4    2\n",
      "Name: InterestLevel, dtype: int64\n"
     ]
    }
   ],
   "source": [
    "X = dfWithFeatures.ix[:, dfWithFeatures.columns != 'InterestLevel']\n",
    "y =  dfWithFeatures['InterestLevel']\n",
    "print X.head()\n",
    "print y.head()"
   ]
  },
  {
   "cell_type": "code",
   "execution_count": 120,
   "metadata": {
    "collapsed": false
   },
   "outputs": [],
   "source": [
    "train_data, test_data, train_labels, test_labels = cross_validation.train_test_split(X.as_matrix(), \n",
    "                                                                                     y, \n",
    "                                                                                     test_size = 0.3,\n",
    "                                                                                     random_state = 1)"
   ]
  },
  {
   "cell_type": "code",
   "execution_count": 121,
   "metadata": {
    "collapsed": false
   },
   "outputs": [
    {
     "data": {
      "text/plain": [
       "RandomForestClassifier(bootstrap=True, class_weight=None, criterion='gini',\n",
       "            max_depth=None, max_features='auto', max_leaf_nodes=None,\n",
       "            min_impurity_split=1e-07, min_samples_leaf=1,\n",
       "            min_samples_split=2, min_weight_fraction_leaf=0.0,\n",
       "            n_estimators=150, n_jobs=1, oob_score=False, random_state=0,\n",
       "            verbose=0, warm_start=False)"
      ]
     },
     "execution_count": 121,
     "metadata": {},
     "output_type": "execute_result"
    }
   ],
   "source": [
    "rf = RandomForestClassifier(n_estimators=150, random_state = 0)\n",
    "rf.fit(train_data, train_labels)"
   ]
  },
  {
   "cell_type": "code",
   "execution_count": 122,
   "metadata": {
    "collapsed": true
   },
   "outputs": [],
   "source": [
    "preds = rf.predict(test_data)"
   ]
  },
  {
   "cell_type": "code",
   "execution_count": 124,
   "metadata": {
    "collapsed": false
   },
   "outputs": [
    {
     "name": "stdout",
     "output_type": "stream",
     "text": [
      "0.335269485344\n",
      "0.707618533027\n"
     ]
    }
   ],
   "source": [
    "print metrics.mean_absolute_error(test_labels, preds)\n",
    "print metrics.accuracy_score(test_labels, preds)"
   ]
  },
  {
   "cell_type": "code",
   "execution_count": null,
   "metadata": {
    "collapsed": true
   },
   "outputs": [],
   "source": []
  }
 ],
 "metadata": {
  "kernelspec": {
   "display_name": "Python 2",
   "language": "python",
   "name": "python2"
  },
  "language_info": {
   "codemirror_mode": {
    "name": "ipython",
    "version": 2
   },
   "file_extension": ".py",
   "mimetype": "text/x-python",
   "name": "python",
   "nbconvert_exporter": "python",
   "pygments_lexer": "ipython2",
   "version": "2.7.13"
  }
 },
 "nbformat": 4,
 "nbformat_minor": 2
}
